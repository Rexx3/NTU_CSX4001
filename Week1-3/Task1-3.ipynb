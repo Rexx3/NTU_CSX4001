{
 "cells": [
  {
   "cell_type": "code",
   "execution_count": 2,
   "metadata": {
    "scrolled": true
   },
   "outputs": [
    {
     "data": {
      "text/html": [
       "<div>\n",
       "<style scoped>\n",
       "    .dataframe tbody tr th:only-of-type {\n",
       "        vertical-align: middle;\n",
       "    }\n",
       "\n",
       "    .dataframe tbody tr th {\n",
       "        vertical-align: top;\n",
       "    }\n",
       "\n",
       "    .dataframe thead th {\n",
       "        text-align: right;\n",
       "    }\n",
       "</style>\n",
       "<table border=\"1\" class=\"dataframe\">\n",
       "  <thead>\n",
       "    <tr style=\"text-align: right;\">\n",
       "      <th></th>\n",
       "      <th>CASE_NO</th>\n",
       "      <th>INSURED_SEX</th>\n",
       "      <th>AGE_RANK</th>\n",
       "      <th>TENURE</th>\n",
       "      <th>ILLNESS_CD</th>\n",
       "      <th>illness_code_desc</th>\n",
       "      <th>HOSP_CD</th>\n",
       "      <th>hospital_name</th>\n",
       "      <th>REIMB_AMT_K</th>\n",
       "      <th>settle_dt</th>\n",
       "      <th>CountNo</th>\n",
       "      <th>REIMB_AMT_5Y_K</th>\n",
       "      <th>RECENCY_YEAR</th>\n",
       "      <th>CountCovNo</th>\n",
       "      <th>Sum_afyp_K</th>\n",
       "      <th>EFFECTdate</th>\n",
       "      <th>TYPE_CODE</th>\n",
       "      <th>AFYP_K</th>\n",
       "    </tr>\n",
       "  </thead>\n",
       "  <tbody>\n",
       "    <tr>\n",
       "      <th>0</th>\n",
       "      <td>1</td>\n",
       "      <td>F</td>\n",
       "      <td>02.21~40</td>\n",
       "      <td>16</td>\n",
       "      <td>A47202</td>\n",
       "      <td>橈骨骨折</td>\n",
       "      <td>DM0068</td>\n",
       "      <td>澄清綜合醫院（中港分院）</td>\n",
       "      <td>7</td>\n",
       "      <td>2017/10/25</td>\n",
       "      <td>NaN</td>\n",
       "      <td>NaN</td>\n",
       "      <td>16</td>\n",
       "      <td>1.0</td>\n",
       "      <td>18.0</td>\n",
       "      <td>NaN</td>\n",
       "      <td>NaN</td>\n",
       "      <td>NaN</td>\n",
       "    </tr>\n",
       "    <tr>\n",
       "      <th>1</th>\n",
       "      <td>2</td>\n",
       "      <td>M</td>\n",
       "      <td>03.41~60</td>\n",
       "      <td>16</td>\n",
       "      <td>A27902</td>\n",
       "      <td>冠狀動脈疾病</td>\n",
       "      <td>UM0011</td>\n",
       "      <td>新光醫院</td>\n",
       "      <td>18</td>\n",
       "      <td>2017/3/3</td>\n",
       "      <td>3.0</td>\n",
       "      <td>71.0</td>\n",
       "      <td>16</td>\n",
       "      <td>2.0</td>\n",
       "      <td>23.0</td>\n",
       "      <td>NaN</td>\n",
       "      <td>NaN</td>\n",
       "      <td>NaN</td>\n",
       "    </tr>\n",
       "    <tr>\n",
       "      <th>2</th>\n",
       "      <td>3</td>\n",
       "      <td>M</td>\n",
       "      <td>02.21~40</td>\n",
       "      <td>24</td>\n",
       "      <td>A29101</td>\n",
       "      <td>腦中風</td>\n",
       "      <td>UM0009</td>\n",
       "      <td>長庚醫院(林口、台北、桃園)</td>\n",
       "      <td>5</td>\n",
       "      <td>2017/9/15</td>\n",
       "      <td>NaN</td>\n",
       "      <td>NaN</td>\n",
       "      <td>24</td>\n",
       "      <td>3.0</td>\n",
       "      <td>44.0</td>\n",
       "      <td>NaN</td>\n",
       "      <td>NaN</td>\n",
       "      <td>NaN</td>\n",
       "    </tr>\n",
       "    <tr>\n",
       "      <th>3</th>\n",
       "      <td>4</td>\n",
       "      <td>M</td>\n",
       "      <td>02.21~40</td>\n",
       "      <td>28</td>\n",
       "      <td>A36000</td>\n",
       "      <td>攝護腺（前列腺）疾病（發炎,肥大等）</td>\n",
       "      <td>UM0098</td>\n",
       "      <td>台安醫院</td>\n",
       "      <td>0</td>\n",
       "      <td>2017/3/8</td>\n",
       "      <td>5.0</td>\n",
       "      <td>32.0</td>\n",
       "      <td>28</td>\n",
       "      <td>3.0</td>\n",
       "      <td>27.0</td>\n",
       "      <td>NaN</td>\n",
       "      <td>NaN</td>\n",
       "      <td>NaN</td>\n",
       "    </tr>\n",
       "    <tr>\n",
       "      <th>4</th>\n",
       "      <td>5</td>\n",
       "      <td>M</td>\n",
       "      <td>02.21~40</td>\n",
       "      <td>28</td>\n",
       "      <td>A48003</td>\n",
       "      <td>腕及手之脫臼，扭，拉，挫，捩傷</td>\n",
       "      <td>UM0100</td>\n",
       "      <td>博仁醫院</td>\n",
       "      <td>2</td>\n",
       "      <td>2017/7/6</td>\n",
       "      <td>7.0</td>\n",
       "      <td>133.0</td>\n",
       "      <td>27</td>\n",
       "      <td>4.0</td>\n",
       "      <td>44.0</td>\n",
       "      <td>NaN</td>\n",
       "      <td>NaN</td>\n",
       "      <td>NaN</td>\n",
       "    </tr>\n",
       "  </tbody>\n",
       "</table>\n",
       "</div>"
      ],
      "text/plain": [
       "   CASE_NO INSURED_SEX  AGE_RANK  TENURE ILLNESS_CD   illness_code_desc  \\\n",
       "0        1           F  02.21~40      16     A47202                橈骨骨折   \n",
       "1        2           M  03.41~60      16     A27902              冠狀動脈疾病   \n",
       "2        3           M  02.21~40      24     A29101                 腦中風   \n",
       "3        4           M  02.21~40      28     A36000  攝護腺（前列腺）疾病（發炎,肥大等）   \n",
       "4        5           M  02.21~40      28     A48003     腕及手之脫臼，扭，拉，挫，捩傷   \n",
       "\n",
       "  HOSP_CD   hospital_name  REIMB_AMT_K   settle_dt  CountNo  REIMB_AMT_5Y_K  \\\n",
       "0  DM0068    澄清綜合醫院（中港分院）            7  2017/10/25      NaN             NaN   \n",
       "1  UM0011            新光醫院           18    2017/3/3      3.0            71.0   \n",
       "2  UM0009  長庚醫院(林口、台北、桃園)            5   2017/9/15      NaN             NaN   \n",
       "3  UM0098            台安醫院            0    2017/3/8      5.0            32.0   \n",
       "4  UM0100            博仁醫院            2    2017/7/6      7.0           133.0   \n",
       "\n",
       "   RECENCY_YEAR  CountCovNo  Sum_afyp_K EFFECTdate TYPE_CODE  AFYP_K  \n",
       "0            16         1.0        18.0        NaN       NaN     NaN  \n",
       "1            16         2.0        23.0        NaN       NaN     NaN  \n",
       "2            24         3.0        44.0        NaN       NaN     NaN  \n",
       "3            28         3.0        27.0        NaN       NaN     NaN  \n",
       "4            27         4.0        44.0        NaN       NaN     NaN  "
      ]
     },
     "execution_count": 2,
     "metadata": {},
     "output_type": "execute_result"
    }
   ],
   "source": [
    "import matplotlib.pyplot as plt\n",
    "import pandas as pd\n",
    "import numpy as np\n",
    "\n",
    "nanshan_data = pd.read_csv('CLAIM.csv', encoding='big5')\n",
    "nanshan_data.head() #print csv data"
   ]
  },
  {
   "cell_type": "markdown",
   "metadata": {},
   "source": [
    "以上是南山資料的csv讀檔，可以看出資料相當雜亂。"
   ]
  },
  {
   "cell_type": "code",
   "execution_count": 93,
   "metadata": {},
   "outputs": [
    {
     "data": {
      "image/png": "[encoded data removed]",
      "text/plain": [
       "<Figure size 432x288 with 1 Axes>"
      ]
     },
     "metadata": {
      "needs_background": "light"
     },
     "output_type": "display_data"
    }
   ],
   "source": [
    "age_data = nanshan_data['AGE_RANK']\n",
    "ages = []\n",
    "\n",
    "for age in age_data:\n",
    "    splits = age.split(\".\")\n",
    "    ages.append(int(splits[0]))\n",
    "range_0 = ages.count(1)\n",
    "range_1 = ages.count(2)\n",
    "range_2 = ages.count(3)\n",
    "range_3 = ages.count(4)\n",
    "ages_count = [range_0/1000, range_1/1000, range_2/1000, range_3/1000]\n",
    "y_pos = np.arange(len(ages_count))\n",
    "ticks = ('0~20','21~40', '41~60', '61+')\n",
    " \n",
    "plt.bar(y_pos, ages_count, align='center', alpha=0.3, color='red')\n",
    "plt.xticks(y_pos, ticks)\n",
    "plt.ylabel('Accumulation per 1000')\n",
    "plt.xlabel('Age_intervals')\n",
    "plt.title('Accumulation vs. Age_intervals')\n",
    " \n",
    "plt.show()"
   ]
  },
  {
   "cell_type": "markdown",
   "metadata": {},
   "source": [
    "以上長條圖可以看出，在投保的客戶中，以21~40歲等青、壯年人口為主"
   ]
  },
  {
   "cell_type": "code",
   "execution_count": 89,
   "metadata": {},
   "outputs": [
    {
     "name": "stdout",
     "output_type": "stream",
     "text": [
      "Nan-Shan life insurance co. have: 56582 female clints, and 51029 male clints! \n"
     ]
    }
   ],
   "source": [
    "gender_data = nanshan_data['INSURED_SEX']\n",
    "gender_list = gender_data.tolist()\n",
    "female = gender_list.count(\"F\")\n",
    "male = gender_list.count(\"M\")\n",
    "print(\"Nan-Shan life insurance co. have: {0:05d} female clints, and {1:05d} male clints! \".format(female,male))"
   ]
  },
  {
   "cell_type": "markdown",
   "metadata": {},
   "source": [
    "以上資料可以知道，南山的客戶群中，男女比大約1:1，甚至有可能女性較多一些"
   ]
  },
  {
   "cell_type": "code",
   "execution_count": 90,
   "metadata": {},
   "outputs": [
    {
     "data": {
      "image/png": "[encoded data removed]",
      "text/plain": [
       "<Figure size 432x288 with 1 Axes>"
      ]
     },
     "metadata": {
      "needs_background": "light"
     },
     "output_type": "display_data"
    }
   ],
   "source": [
    "tenure_data = nanshan_data['TENURE']\n",
    "tenure_list = tenure_data.tolist()\n",
    "tenure_int = [int(i) for i in tenure_list]\n",
    "box_data = [[],[],[],[]]\n",
    "for i in range(len(ages)):\n",
    "    if ages[i] == 1:\n",
    "        box_data[0].append(tenure_int[i])\n",
    "    elif ages[i] == 2:\n",
    "        box_data[1].append(tenure_int[i])\n",
    "    elif ages[i] == 3:\n",
    "        box_data[2].append(tenure_int[i])\n",
    "    else:\n",
    "        box_data[3].append(tenure_int[i])   \n",
    "\n",
    "fig = plt.figure()\n",
    "ax = plt.subplot()\n",
    "f = ax.boxplot(box_data,sym='r*',patch_artist=True)\n",
    "plt.xticks([1, 2, 3, 4], ['0~20','21~40','41~60','61+'])\n",
    "plt.ylabel('Years')\n",
    "plt.xlabel('Age_intervals')\n",
    "plt.title('Tenure_years vs. Age_intervals')\n",
    "for box in f['boxes']:\n",
    "    box.set( color='#7570b3', linewidth=2)\n",
    "    box.set( facecolor = '#1b9e77' )\n",
    "for whisker in f['whiskers']:\n",
    "    whisker.set(color='r', linewidth=2)\n",
    "for cap in f['caps']:\n",
    "    cap.set(color='g', linewidth=3)\n",
    "for median in f['medians']:\n",
    "    median.set(color='DarkBlue', linewidth=3)\n",
    "for flier in f['fliers']:\n",
    "    flier.set(marker='o', color='y', alpha=0.5)\n",
    "plt.show()\n"
   ]
  },
  {
   "cell_type": "markdown",
   "metadata": {},
   "source": [
    "可以看出，在三個年齡分布區間中，21~40歲的客戶，平均擁有較高的年資"
   ]
  },
  {
   "cell_type": "code",
   "execution_count": 91,
   "metadata": {},
   "outputs": [
    {
     "name": "stdout",
     "output_type": "stream",
     "text": [
      "From Nan-Shan's data, thers are 420 kinds of illness, and 1058 diffeient hospitals.\n"
     ]
    }
   ],
   "source": [
    "illness_data = nanshan_data['ILLNESS_CD']\n",
    "illness_list = illness_data.tolist()\n",
    "illness_label = []\n",
    "\n",
    "for ill in illness_list:\n",
    "    if not ill in illness_label:\n",
    "        illness_label.append(ill)\n",
    "\n",
    "hosp_data = nanshan_data['HOSP_CD']\n",
    "hosp_list = hosp_data.tolist()\n",
    "hosp_label = []\n",
    "\n",
    "for hosp in hosp_list:\n",
    "    if not hosp in hosp_label:\n",
    "        hosp_label.append(hosp)\n",
    "\n",
    "print(\"From Nan-Shan's data, thers are {0:03d} kinds of illness, and {1:04d} diffeient hospitals.\".format(len(illness_label),len(hosp_label)))"
   ]
  },
  {
   "cell_type": "markdown",
   "metadata": {},
   "source": [
    "由以上的程式所擷取的資料可以發現，在南山給我們的資料裡，客戶有420種不同的疾病，而這些客戶也曾在1058間不同的醫院就診。"
   ]
  },
  {
   "cell_type": "code",
   "execution_count": 92,
   "metadata": {},
   "outputs": [
    {
     "data": {
      "text/html": [
       "<div>\n",
       "<style scoped>\n",
       "    .dataframe tbody tr th:only-of-type {\n",
       "        vertical-align: middle;\n",
       "    }\n",
       "\n",
       "    .dataframe tbody tr th {\n",
       "        vertical-align: top;\n",
       "    }\n",
       "\n",
       "    .dataframe thead th {\n",
       "        text-align: right;\n",
       "    }\n",
       "</style>\n",
       "<table border=\"1\" class=\"dataframe\">\n",
       "  <thead>\n",
       "    <tr style=\"text-align: right;\">\n",
       "      <th></th>\n",
       "      <th>%</th>\n",
       "    </tr>\n",
       "  </thead>\n",
       "  <tbody>\n",
       "    <tr>\n",
       "      <th>乳房之惡性腫瘤</th>\n",
       "      <td>3.190194</td>\n",
       "    </tr>\n",
       "    <tr>\n",
       "      <th>腰及背部之脫臼，扭，拉，挫，捩傷</th>\n",
       "      <td>3.141872</td>\n",
       "    </tr>\n",
       "    <tr>\n",
       "      <th>肩及上臂之脫臼，扭，拉，挫，捩傷</th>\n",
       "      <td>3.024784</td>\n",
       "    </tr>\n",
       "    <tr>\n",
       "      <th>踝及足之脫臼，扭，拉，挫，捩傷</th>\n",
       "      <td>3.006198</td>\n",
       "    </tr>\n",
       "    <tr>\n",
       "      <th>手之外傷</th>\n",
       "      <td>2.959735</td>\n",
       "    </tr>\n",
       "  </tbody>\n",
       "</table>\n",
       "</div>"
      ],
      "text/plain": [
       "                         %\n",
       "乳房之惡性腫瘤           3.190194\n",
       "腰及背部之脫臼，扭，拉，挫，捩傷  3.141872\n",
       "肩及上臂之脫臼，扭，拉，挫，捩傷  3.024784\n",
       "踝及足之脫臼，扭，拉，挫，捩傷   3.006198\n",
       "手之外傷              2.959735"
      ]
     },
     "execution_count": 92,
     "metadata": {},
     "output_type": "execute_result"
    }
   ],
   "source": [
    "illness_count = []\n",
    "for label in illness_label:\n",
    "    illness_count.append(illness_list.count(label))\n",
    "combine = []\n",
    "for i in range(len(illness_label)):\n",
    "    combine.append([illness_count[i],illness_label[i]])\n",
    "sort_list=sorted(combine,key=lambda x: x[0],reverse=True)\n",
    "top5_illness=[sort_list[i][1] for i in range(5)]\n",
    "top5_count = [sort_list[i][0]/len(illness_list)*100 for i in range(5)]\n",
    "top5_idx = []\n",
    "for ill in top5_illness:\n",
    "    top5_idx.append(illness_list.index(ill))\n",
    "illname_data = nanshan_data['illness_code_desc']\n",
    "top5_name = []\n",
    "for i in top5_idx:\n",
    "    top5_name.append(illname_data[i])\n",
    "dic = pd.DataFrame.from_dict(dict(zip(top5_name,top5_count)),orient='index',columns=['%'])\n",
    "dic.head()"
   ]
  },
  {
   "cell_type": "markdown",
   "metadata": {},
   "source": [
    "由以上表格可知道，在420種疾病中，前五名的疾病與比例為表格所示，除了乳房之惡性腫瘤外，基本上為常見的傷病。"
   ]
  },
  {
   "cell_type": "code",
   "execution_count": null,
   "metadata": {},
   "outputs": [],
   "source": []
  }
 ],
 "metadata": {
  "kernelspec": {
   "display_name": "Python 3",
   "language": "python",
   "name": "python3"
  },
  "language_info": {
   "codemirror_mode": {
    "name": "ipython",
    "version": 3
   },
   "file_extension": ".py",
   "mimetype": "text/x-python",
   "name": "python",
   "nbconvert_exporter": "python",
   "pygments_lexer": "ipython3",
   "version": "3.7.0"
  }
 },
 "nbformat": 4,
 "nbformat_minor": 2
}
