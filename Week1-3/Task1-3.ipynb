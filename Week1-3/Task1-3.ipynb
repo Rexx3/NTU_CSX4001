import matplotlib.pyplot as plt
import pandas as pd
import numpy as np

nanshan_data = pd.read_csv('CLAIM.csv', encoding='big5')
nanshan_data.head()
